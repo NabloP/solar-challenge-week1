{
 "cells": [
  {
   "cell_type": "markdown",
   "id": "324a8e12",
   "metadata": {},
   "source": [
    "# 🌍 Cross-Country Solar Irradiance Comparison – Benin, Togo, Sierra Leone\n",
    "\n",
    "This notebook performs a comparative analysis of solar potential across **Benin**, **Togo**, and **Sierra Leone**, using cleaned irradiance data.\n",
    "\n",
    "**Business Goal:**  \n",
    "MoonLight Energy Solutions seeks data-driven guidance to prioritize solar farm investments. This analysis focuses on identifying high-potential regions based on statistical trends in Global Horizontal Irradiance (GHI), Direct Normal Irradiance (DNI), and Diffuse Horizontal Irradiance (DHI).\n",
    "\n",
    "Key Deliverables:\n",
    "- Metric comparison via boxplots and summary statistics\n",
    "- Statistical testing for significance of cross-country differences\n",
    "- Clear strategic recommendations"
   ]
  },
  {
   "cell_type": "code",
   "execution_count": 17,
   "id": "ff5ab87a",
   "metadata": {},
   "outputs": [
    {
     "name": "stdout",
     "output_type": "stream",
     "text": [
      "✅ Working from: C:\\Users\\admin\\Documents\\GIT Repositories\\solar-challenge-week1\n"
     ]
    }
   ],
   "source": [
    "# ------------------------------------------------------------------------------\n",
    "# 📦 Imports & Environment Setup\n",
    "# ------------------------------------------------------------------------------\n",
    "\n",
    "import os  # for directory management\n",
    "import sys  # for path manipulation\n",
    "\n",
    "import pandas as pd  # for data manipulation and analysis\n",
    "import numpy as np  # for numerical operations\n",
    "import seaborn as sns  # for enhanced statistical visualizations\n",
    "import matplotlib.pyplot as plt  # for core plotting functionality\n",
    "\n",
    "from scipy.stats import shapiro, kruskal  # for normality and distribution comparison tests\n",
    "\n",
    "# ------------------------------------------------------------------------------\n",
    "# 📁 Enforce Root-Relative Execution\n",
    "# ------------------------------------------------------------------------------\n",
    "\n",
    "# Define absolute path to project root (move up from notebooks/ if needed)\n",
    "PROJECT_ROOT =  \"C:/Users/admin/Documents/GIT Repositories/solar-challenge-week1\"  # <-- Adjust this path if needed\n",
    "DATA_PATH = os.path.join(PROJECT_ROOT, \"data\")  # Define reusable data path\n",
    "SRC_PATH = os.path.join(PROJECT_ROOT, \"src\")  # Define reusable source path\n",
    "\n",
    "# Set working directory to project root and extend system path for modular imports\n",
    "os.chdir(PROJECT_ROOT)  # Ensures consistent relative paths no matter where notebook is run from\n",
    "sys.path.append(SRC_PATH)  # Allows us to import from src/ later\n",
    "\n",
    "print(\"✅ Working from:\", os.getcwd())  # Confirm working directory\n",
    "\n",
    "# ------------------------------------------------------------------------------\n",
    "# 🎨 Visualization Settings\n",
    "# ------------------------------------------------------------------------------\n",
    "\n",
    "sns.set_style(\"whitegrid\")  # Apply clean visual style for seaborn plots\n",
    "plt.rcParams.update({\n",
    "    'axes.titlesize': 14,  # Set default title font size\n",
    "    'axes.labelsize': 12   # Set default axis label font size\n",
    "})\n"
   ]
  },
  {
   "cell_type": "code",
   "execution_count": 18,
   "id": "5711ecbe",
   "metadata": {},
   "outputs": [
    {
     "name": "stdout",
     "output_type": "stream",
     "text": [
      "✅ Cleaned datasets successfully loaded from /data\n",
      "📊 Combined dataset shape: (1543517, 20) (rows, columns)\n"
     ]
    }
   ],
   "source": [
    "# ------------------------------------------------------------------------------\n",
    "# 📂 Load Cleaned Country Datasets (Benin, Togo, Sierra Leone)\n",
    "# ------------------------------------------------------------------------------\n",
    "\n",
    "# Define expected file paths (relative to project root)\n",
    "benin_path = os.path.join(DATA_PATH, \"benin_clean.csv\")\n",
    "togo_path = os.path.join(DATA_PATH, \"togo_clean.csv\")\n",
    "sl_path = os.path.join(DATA_PATH, \"sierra_leone_clean.csv\")\n",
    "\n",
    "# Attempt to load all three cleaned CSVs\n",
    "try:\n",
    "    # 🔹 Load cleaned data\n",
    "    benin = pd.read_csv(benin_path)  # Benin solar data\n",
    "    togo = pd.read_csv(togo_path)    # Togo solar data\n",
    "    sl = pd.read_csv(sl_path)        # Sierra Leone solar data\n",
    "\n",
    "    print(\"✅ Cleaned datasets successfully loaded from /data\")\n",
    "\n",
    "except FileNotFoundError as e:\n",
    "    # 🔴 Raise a clear runtime error if any file is missing\n",
    "    raise RuntimeError(\n",
    "        f\"❌ One or more cleaned CSV files not found in: {DATA_PATH}.\\n\"\n",
    "        f\"→ Ensure Task 2 notebooks have been executed and exported to this folder.\"\n",
    "    ) from e\n",
    "\n",
    "# ------------------------------------------------------------------------------\n",
    "# 🏷️ Add Country Labels for Comparison\n",
    "# ------------------------------------------------------------------------------\n",
    "\n",
    "benin[\"country\"] = \"Benin\"             # Label Benin data\n",
    "togo[\"country\"] = \"Togo\"               # Label Togo data\n",
    "sl[\"country\"] = \"Sierra Leone\"         # Label Sierra Leone data\n",
    "\n",
    "# ------------------------------------------------------------------------------\n",
    "# 🔗 Merge All Datasets into a Unified DataFrame\n",
    "# ------------------------------------------------------------------------------\n",
    "\n",
    "df_all = pd.concat([benin, togo, sl], ignore_index=True) # Concatenate all datasets\n",
    "print(f\"📊 Combined dataset shape: {df_all.shape} (rows, columns)\")\n"
   ]
  },
  {
   "cell_type": "markdown",
   "id": "c8721264",
   "metadata": {},
   "source": [
    "## ☀️ Irradiance Metrics Overview\n",
    "\n",
    "To evaluate solar deployment potential across Benin, Togo, and Sierra Leone, we analyze three key irradiance metrics:\n",
    "\n",
    "- **🔆 GHI (Global Horizontal Irradiance)**  \n",
    "  Total solar radiation received per square meter on a **horizontal** surface.  \n",
    "  → **Primary metric** for evaluating **fixed-panel solar farms** and large-scale PV installations.\n",
    "\n",
    "- **📍 DNI (Direct Normal Irradiance)**  \n",
    "  Solar radiation received per square meter on a surface **perpendicular to the sun's rays**.  \n",
    "  → Critical for **solar tracking systems** and **concentrated solar power (CSP)** feasibility.\n",
    "\n",
    "- **☁️ DHI (Diffuse Horizontal Irradiance)**  \n",
    "  Indirect radiation from the atmosphere (e.g., clouds, haze, dust), measured on a horizontal surface.  \n",
    "  → Useful for evaluating performance under **low-visibility or high-diffusion conditions**.\n",
    "\n",
    "These three metrics form the foundation of our **cross-country comparison**, enabling us to differentiate not just solar potential — but also the **optimal technology type** for each country.\n"
   ]
  },
  {
   "cell_type": "code",
   "execution_count": 19,
   "id": "ea65282c",
   "metadata": {},
   "outputs": [
    {
     "name": "stdout",
     "output_type": "stream",
     "text": [
      "📈 Shapiro–Wilk Test for GHI Normality\n",
      "\n",
      "Benin           → p = 0.00000 → ⚠️ Non-Normal\n",
      "Togo            → p = 0.00000 → ⚠️ Non-Normal\n",
      "Sierra Leone    → p = 0.00000 → ⚠️ Non-Normal\n"
     ]
    }
   ],
   "source": [
    "# ------------------------------------------------------------------------------\n",
    "# 🧪 Step 1: Shapiro–Wilk Normality Test on GHI\n",
    "# ------------------------------------------------------------------------------\n",
    "\n",
    "from scipy.stats import shapiro  # Test whether GHI follows a normal distribution\n",
    "\n",
    "# 📌 Why this test?\n",
    "# Determines whether we should use a **parametric test (ANOVA)** or a **non-parametric test (Kruskal-Wallis)**\n",
    "# Null hypothesis: data is normally distributed. If p < 0.05, we reject normality.\n",
    "\n",
    "print(\"📈 Shapiro–Wilk Test for GHI Normality\\n\")\n",
    "\n",
    "# Run test per country (sampled if large)\n",
    "for country_df, label in zip([benin, togo, sl], [\"Benin\", \"Togo\", \"Sierra Leone\"]): # Iterate over each country DataFrame\n",
    "    ghi_sample = country_df[\"GHI\"].dropna().sample(n=min(5000, len(country_df)), random_state=42) # Sample up to 5000 rows\n",
    "    stat, p = shapiro(ghi_sample) # Perform Shapiro-Wilk test\n",
    "    result = \"✅ Likely Normal\" if p > 0.05 else \"⚠️ Non-Normal\" # Interpret result\n",
    "    print(f\"{label:<15} → p = {p:.5f} → {result}\") # Display result\n"
   ]
  },
  {
   "cell_type": "code",
   "execution_count": 20,
   "id": "cac5883d",
   "metadata": {},
   "outputs": [
    {
     "name": "stdout",
     "output_type": "stream",
     "text": [
      "📌 Kruskal–Wallis Test for GHI:\n",
      "   H-statistic = 6548.534\n",
      "   p-value     = 0.00000\n",
      "✅ Statistically significant differences in GHI across countries (reject H0).\n"
     ]
    }
   ],
   "source": [
    "# ------------------------------------------------------------------------------\n",
    "# 🧪 Step 2: Kruskal–Wallis H-Test for GHI Differences Across Countries\n",
    "# ------------------------------------------------------------------------------\n",
    "\n",
    "# 📌 Why Kruskal–Wallis?\n",
    "# Since GHI is not normally distributed (see previous test), we use a non-parametric method.\n",
    "# Null Hypothesis (H0): All groups come from the same distribution (no difference in GHI)\n",
    "# Alternative (H1): At least one group differs in distribution of GHI\n",
    "\n",
    "# 🔍 Prepare GHI values (cleaned, with NaNs dropped)\n",
    "ghi_benin = benin[\"GHI\"].dropna() # Extract GHI values for Benin\n",
    "ghi_togo = togo[\"GHI\"].dropna() # Extract GHI values for Togo\n",
    "ghi_sl = sl[\"GHI\"].dropna() # Extract GHI values for Sierra Leone\n",
    "\n",
    "# 🧪 Run the Kruskal–Wallis test\n",
    "h_stat, p_value = kruskal(ghi_benin, ghi_togo, ghi_sl) # Perform Kruskal-Wallis test\n",
    "\n",
    "# 📊 Report results\n",
    "print(f\"📌 Kruskal–Wallis Test for GHI:\")\n",
    "print(f\"   H-statistic = {h_stat:.3f}\") # Kruskal-Wallis H statistic\n",
    "print(f\"   p-value     = {p_value:.5f}\") # p-value for the test\n",
    "\n",
    "# 🎯 Interpret result\n",
    "if p_value < 0.05: # If p-value is less than 0.05, we reject the null hypothesis\n",
    "    print(\"✅ Statistically significant differences in GHI across countries (reject H0).\")\n",
    "else: # If p-value is greater than 0.05, we fail to reject the null hypothesis\n",
    "    print(\"⚠️ No statistically significant difference detected (fail to reject H0).\")\n"
   ]
  },
  {
   "cell_type": "code",
   "execution_count": 21,
   "id": "e5dc02ce",
   "metadata": {},
   "outputs": [
    {
     "name": "stderr",
     "output_type": "stream",
     "text": [
      "C:\\Users\\admin\\AppData\\Local\\Temp\\ipykernel_21932\\2115920072.py:16: FutureWarning: \n",
      "\n",
      "Passing `palette` without assigning `hue` is deprecated and will be removed in v0.14.0. Assign the `x` variable to `hue` and set `legend=False` for the same effect.\n",
      "\n",
      "  sns.boxplot(data=df_all, x=\"country\", y=metric, palette=\"Set2\")\n"
     ]
    },
    {
     "data": {
      "image/png": "[encoded data removed]",
      "text/plain": [
       "<Figure size 900x600 with 1 Axes>"
      ]
     },
     "metadata": {},
     "output_type": "display_data"
    },
    {
     "name": "stderr",
     "output_type": "stream",
     "text": [
      "C:\\Users\\admin\\AppData\\Local\\Temp\\ipykernel_21932\\2115920072.py:16: FutureWarning: \n",
      "\n",
      "Passing `palette` without assigning `hue` is deprecated and will be removed in v0.14.0. Assign the `x` variable to `hue` and set `legend=False` for the same effect.\n",
      "\n",
      "  sns.boxplot(data=df_all, x=\"country\", y=metric, palette=\"Set2\")\n"
     ]
    },
    {
     "data": {
      "image/png": "[encoded data removed]",
      "text/plain": [
       "<Figure size 900x600 with 1 Axes>"
      ]
     },
     "metadata": {},
     "output_type": "display_data"
    },
    {
     "name": "stderr",
     "output_type": "stream",
     "text": [
      "C:\\Users\\admin\\AppData\\Local\\Temp\\ipykernel_21932\\2115920072.py:16: FutureWarning: \n",
      "\n",
      "Passing `palette` without assigning `hue` is deprecated and will be removed in v0.14.0. Assign the `x` variable to `hue` and set `legend=False` for the same effect.\n",
      "\n",
      "  sns.boxplot(data=df_all, x=\"country\", y=metric, palette=\"Set2\")\n"
     ]
    },
    {
     "data": {
      "image/png": "[encoded data removed]",
      "text/plain": [
       "<Figure size 900x600 with 1 Axes>"
      ]
     },
     "metadata": {},
     "output_type": "display_data"
    }
   ],
   "source": [
    "# ------------------------------------------------------------------------------\n",
    "# 📊 Step 3: Compare GHI, DNI, DHI Across Countries (Boxplots)\n",
    "# ------------------------------------------------------------------------------\n",
    "\n",
    "# List of irradiance metrics to compare\n",
    "metrics = [\"GHI\", \"DNI\", \"DHI\"]\n",
    "\n",
    "# 📌 Why boxplots?\n",
    "# They allow us to compare central tendency, spread, and outliers for each irradiance metric\n",
    "# across Benin, Togo, and Sierra Leone in a single view.\n",
    "\n",
    "for metric in metrics:\n",
    "    plt.figure(figsize=(9, 6))  # Set figure size\n",
    "    \n",
    "    # 🔲 Create boxplot for current metric\n",
    "    sns.boxplot(data=df_all, x=\"country\", y=metric, palette=\"Set2\")\n",
    "\n",
    "    # 🖼️ Title and axis labels\n",
    "    plt.title(f\"{metric} Distribution by Country\", fontsize=16, weight='bold') # Set title\n",
    "    plt.ylabel(f\"{metric} (W/m²)\", fontsize=12) # Set y-label\n",
    "    plt.xlabel(\"\")  # Omit x-label for simplicity\n",
    "    plt.grid(True, linestyle=\"--\", alpha=0.7) # Add grid for better readability\n",
    "    plt.xticks(fontsize=11) # Set x-tick font size\n",
    "    plt.yticks(fontsize=11) # Set y-tick font size\n",
    "    \n",
    "    # 🧼 Tidy layout and render\n",
    "    plt.tight_layout() # Adjust layout to prevent clipping\n",
    "    plt.show() # Display the plot\n"
   ]
  },
  {
   "cell_type": "code",
   "execution_count": 23,
   "id": "f3f8b96a",
   "metadata": {},
   "outputs": [
    {
     "name": "stdout",
     "output_type": "stream",
     "text": [
      "📊 Descriptive Statistics by Country (W/m²):\n"
     ]
    },
    {
     "data": {
      "application/vnd.microsoft.datawrangler.viewer.v0+json": {
       "columns": [
        {
         "name": "country",
         "rawType": "object",
         "type": "string"
        },
        {
         "name": "('GHI', 'mean')",
         "rawType": "float64",
         "type": "float"
        },
        {
         "name": "('GHI', 'median')",
         "rawType": "float64",
         "type": "float"
        },
        {
         "name": "('GHI', 'std')",
         "rawType": "float64",
         "type": "float"
        },
        {
         "name": "('GHI', 'count')",
         "rawType": "int64",
         "type": "integer"
        },
        {
         "name": "('DNI', 'mean')",
         "rawType": "float64",
         "type": "float"
        },
        {
         "name": "('DNI', 'median')",
         "rawType": "float64",
         "type": "float"
        },
        {
         "name": "('DNI', 'std')",
         "rawType": "float64",
         "type": "float"
        },
        {
         "name": "('DNI', 'count')",
         "rawType": "int64",
         "type": "integer"
        },
        {
         "name": "('DHI', 'mean')",
         "rawType": "float64",
         "type": "float"
        },
        {
         "name": "('DHI', 'median')",
         "rawType": "float64",
         "type": "float"
        },
        {
         "name": "('DHI', 'std')",
         "rawType": "float64",
         "type": "float"
        },
        {
         "name": "('DHI', 'count')",
         "rawType": "int64",
         "type": "integer"
        }
       ],
       "ref": "f109ce0b-461a-4573-a018-3c5619b693fa",
       "rows": [
        [
         "Benin",
         "236.23",
         "0.7",
         "328.29",
         "517860",
         "166.9",
         "-0.1",
         "262.08",
         "517860",
         "111.66",
         "0.5",
         "153.1",
         "517860"
        ],
        [
         "Sierra Leone",
         "185.0",
         "-0.4",
         "279.02",
         "509308",
         "104.13",
         "-0.1",
         "200.95",
         "509308",
         "108.1",
         "-0.6",
         "153.69",
         "509308"
        ],
        [
         "Togo",
         "223.86",
         "0.5",
         "317.31",
         "516349",
         "147.98",
         "0.0",
         "247.68",
         "516349",
         "112.78",
         "1.5",
         "151.57",
         "516349"
        ]
       ],
       "shape": {
        "columns": 12,
        "rows": 3
       }
      },
      "text/html": [
       "<div>\n",
       "<style scoped>\n",
       "    .dataframe tbody tr th:only-of-type {\n",
       "        vertical-align: middle;\n",
       "    }\n",
       "\n",
       "    .dataframe tbody tr th {\n",
       "        vertical-align: top;\n",
       "    }\n",
       "\n",
       "    .dataframe thead tr th {\n",
       "        text-align: left;\n",
       "    }\n",
       "\n",
       "    .dataframe thead tr:last-of-type th {\n",
       "        text-align: right;\n",
       "    }\n",
       "</style>\n",
       "<table border=\"1\" class=\"dataframe\">\n",
       "  <thead>\n",
       "    <tr>\n",
       "      <th></th>\n",
       "      <th colspan=\"4\" halign=\"left\">GHI</th>\n",
       "      <th colspan=\"4\" halign=\"left\">DNI</th>\n",
       "      <th colspan=\"4\" halign=\"left\">DHI</th>\n",
       "    </tr>\n",
       "    <tr>\n",
       "      <th></th>\n",
       "      <th>mean</th>\n",
       "      <th>median</th>\n",
       "      <th>std</th>\n",
       "      <th>count</th>\n",
       "      <th>mean</th>\n",
       "      <th>median</th>\n",
       "      <th>std</th>\n",
       "      <th>count</th>\n",
       "      <th>mean</th>\n",
       "      <th>median</th>\n",
       "      <th>std</th>\n",
       "      <th>count</th>\n",
       "    </tr>\n",
       "    <tr>\n",
       "      <th>country</th>\n",
       "      <th></th>\n",
       "      <th></th>\n",
       "      <th></th>\n",
       "      <th></th>\n",
       "      <th></th>\n",
       "      <th></th>\n",
       "      <th></th>\n",
       "      <th></th>\n",
       "      <th></th>\n",
       "      <th></th>\n",
       "      <th></th>\n",
       "      <th></th>\n",
       "    </tr>\n",
       "  </thead>\n",
       "  <tbody>\n",
       "    <tr>\n",
       "      <th>Benin</th>\n",
       "      <td>236.23</td>\n",
       "      <td>0.7</td>\n",
       "      <td>328.29</td>\n",
       "      <td>517860</td>\n",
       "      <td>166.90</td>\n",
       "      <td>-0.1</td>\n",
       "      <td>262.08</td>\n",
       "      <td>517860</td>\n",
       "      <td>111.66</td>\n",
       "      <td>0.5</td>\n",
       "      <td>153.10</td>\n",
       "      <td>517860</td>\n",
       "    </tr>\n",
       "    <tr>\n",
       "      <th>Sierra Leone</th>\n",
       "      <td>185.00</td>\n",
       "      <td>-0.4</td>\n",
       "      <td>279.02</td>\n",
       "      <td>509308</td>\n",
       "      <td>104.13</td>\n",
       "      <td>-0.1</td>\n",
       "      <td>200.95</td>\n",
       "      <td>509308</td>\n",
       "      <td>108.10</td>\n",
       "      <td>-0.6</td>\n",
       "      <td>153.69</td>\n",
       "      <td>509308</td>\n",
       "    </tr>\n",
       "    <tr>\n",
       "      <th>Togo</th>\n",
       "      <td>223.86</td>\n",
       "      <td>0.5</td>\n",
       "      <td>317.31</td>\n",
       "      <td>516349</td>\n",
       "      <td>147.98</td>\n",
       "      <td>0.0</td>\n",
       "      <td>247.68</td>\n",
       "      <td>516349</td>\n",
       "      <td>112.78</td>\n",
       "      <td>1.5</td>\n",
       "      <td>151.57</td>\n",
       "      <td>516349</td>\n",
       "    </tr>\n",
       "  </tbody>\n",
       "</table>\n",
       "</div>"
      ],
      "text/plain": [
       "                 GHI                            DNI                         \\\n",
       "                mean median     std   count    mean median     std   count   \n",
       "country                                                                      \n",
       "Benin         236.23    0.7  328.29  517860  166.90   -0.1  262.08  517860   \n",
       "Sierra Leone  185.00   -0.4  279.02  509308  104.13   -0.1  200.95  509308   \n",
       "Togo          223.86    0.5  317.31  516349  147.98    0.0  247.68  516349   \n",
       "\n",
       "                 DHI                         \n",
       "                mean median     std   count  \n",
       "country                                      \n",
       "Benin         111.66    0.5  153.10  517860  \n",
       "Sierra Leone  108.10   -0.6  153.69  509308  \n",
       "Togo          112.78    1.5  151.57  516349  "
      ]
     },
     "metadata": {},
     "output_type": "display_data"
    },
    {
     "name": "stdout",
     "output_type": "stream",
     "text": [
      "\n",
      "⚠️ Missing Values by Country:\n"
     ]
    },
    {
     "data": {
      "application/vnd.microsoft.datawrangler.viewer.v0+json": {
       "columns": [
        {
         "name": "country",
         "rawType": "object",
         "type": "string"
        },
        {
         "name": "country",
         "rawType": "int64",
         "type": "integer"
        },
        {
         "name": "GHI",
         "rawType": "int64",
         "type": "integer"
        },
        {
         "name": "DNI",
         "rawType": "int64",
         "type": "integer"
        },
        {
         "name": "DHI",
         "rawType": "int64",
         "type": "integer"
        }
       ],
       "ref": "0dc75f78-5578-4f39-b8df-e23f11d64071",
       "rows": [
        [
         "Benin",
         "0",
         "0",
         "0",
         "0"
        ],
        [
         "Sierra Leone",
         "0",
         "0",
         "0",
         "0"
        ],
        [
         "Togo",
         "0",
         "0",
         "0",
         "0"
        ]
       ],
       "shape": {
        "columns": 4,
        "rows": 3
       }
      },
      "text/html": [
       "<div>\n",
       "<style scoped>\n",
       "    .dataframe tbody tr th:only-of-type {\n",
       "        vertical-align: middle;\n",
       "    }\n",
       "\n",
       "    .dataframe tbody tr th {\n",
       "        vertical-align: top;\n",
       "    }\n",
       "\n",
       "    .dataframe thead th {\n",
       "        text-align: right;\n",
       "    }\n",
       "</style>\n",
       "<table border=\"1\" class=\"dataframe\">\n",
       "  <thead>\n",
       "    <tr style=\"text-align: right;\">\n",
       "      <th></th>\n",
       "      <th>country</th>\n",
       "      <th>GHI</th>\n",
       "      <th>DNI</th>\n",
       "      <th>DHI</th>\n",
       "    </tr>\n",
       "    <tr>\n",
       "      <th>country</th>\n",
       "      <th></th>\n",
       "      <th></th>\n",
       "      <th></th>\n",
       "      <th></th>\n",
       "    </tr>\n",
       "  </thead>\n",
       "  <tbody>\n",
       "    <tr>\n",
       "      <th>Benin</th>\n",
       "      <td>0</td>\n",
       "      <td>0</td>\n",
       "      <td>0</td>\n",
       "      <td>0</td>\n",
       "    </tr>\n",
       "    <tr>\n",
       "      <th>Sierra Leone</th>\n",
       "      <td>0</td>\n",
       "      <td>0</td>\n",
       "      <td>0</td>\n",
       "      <td>0</td>\n",
       "    </tr>\n",
       "    <tr>\n",
       "      <th>Togo</th>\n",
       "      <td>0</td>\n",
       "      <td>0</td>\n",
       "      <td>0</td>\n",
       "      <td>0</td>\n",
       "    </tr>\n",
       "  </tbody>\n",
       "</table>\n",
       "</div>"
      ],
      "text/plain": [
       "              country  GHI  DNI  DHI\n",
       "country                             \n",
       "Benin               0    0    0    0\n",
       "Sierra Leone        0    0    0    0\n",
       "Togo                0    0    0    0"
      ]
     },
     "metadata": {},
     "output_type": "display_data"
    }
   ],
   "source": [
    "# ------------------------------------------------------------------------------\n",
    "# 📊 Step 4: Summary Statistics – GHI, DNI, DHI by Country\n",
    "# ------------------------------------------------------------------------------\n",
    "\n",
    "# 📌 Why this table?\n",
    "# Helps compare average irradiance, variability (std), and data completeness (count)\n",
    "# across the three countries. This supports strategic decisions on where to prioritize investment.\n",
    "\n",
    "# Compute summary statistics per metric, per country\n",
    "summary = ( # Create a summary DataFrame\n",
    "    df_all # Start with the combined DataFrame\n",
    "    .groupby(\"country\")[[\"GHI\", \"DNI\", \"DHI\"]] # Group by country and select metrics\n",
    "    .agg(['mean', 'median', 'std', 'count']) # Compute mean, median, std, and count\n",
    "    .round(2) # Round to 2 decimal places\n",
    ")\n",
    "\n",
    "# Optional: count missing values per country for data quality insight\n",
    "missing = ( # Create a missing values summary DataFrame\n",
    "    df_all[[\"country\", \"GHI\", \"DNI\", \"DHI\"]] # Start with the relevant columns\n",
    "    .isna() # Check for NaN values\n",
    "    .groupby(df_all[\"country\"]) # Group by country\n",
    "    .sum() # Sum NaN values per country\n",
    "    .astype(int) # Convert to integer for clarity\n",
    ")\n",
    "\n",
    "# Display the summary stats\n",
    "print(\"📊 Descriptive Statistics by Country (W/m²):\")\n",
    "display(summary) # Display summary statistics\n",
    "\n",
    "# Display missing value summary\n",
    "print(\"\\n⚠️ Missing Values by Country:\")\n",
    "display(missing) # Display missing values summary\n"
   ]
  },
  {
   "cell_type": "markdown",
   "id": "a8476dba",
   "metadata": {},
   "source": [
    "## 📊 Statistical Test Interpretation\n",
    "\n",
    "The **Kruskal–Wallis H-test** was chosen due to non-normal GHI distributions.  \n",
    "**p-value < 0.05** confirms statistically significant differences in GHI distributions across the three countries.\n",
    "\n",
    "This result justifies using GHI rankings to prioritize solar investment regions."
   ]
  },
  {
   "cell_type": "code",
   "execution_count": 22,
   "id": "717cb8ec",
   "metadata": {},
   "outputs": [
    {
     "data": {
      "image/png": "[encoded data removed]",
      "text/plain": [
       "<Figure size 700x400 with 1 Axes>"
      ]
     },
     "metadata": {},
     "output_type": "display_data"
    }
   ],
   "source": [
    "# ------------------------------------------------------------------------------\n",
    "# 📊 Step 5 (Bonus): Bar Chart – Average GHI by Country\n",
    "# ------------------------------------------------------------------------------\n",
    "\n",
    "# 📌 Why this plot?\n",
    "# A quick visual summary of which countries have the highest average solar potential,\n",
    "# enabling fast investment prioritization.\n",
    "\n",
    "# Compute mean GHI per country and sort descending\n",
    "mean_ghi = ( # Create a Series with mean GHI values\n",
    "    df_all.groupby(\"country\")[\"GHI\"] # Group by country and select GHI\n",
    "    .mean() # Compute mean GHI\n",
    "    .sort_values(ascending=False) # Sort values in descending order\n",
    "    .round(1) # Round to 1 decimal place\n",
    ")\n",
    "\n",
    "# 🔲 Create bar chart\n",
    "fig, ax = plt.subplots(figsize=(7, 4)) # Set figure size\n",
    "bars = ax.bar( # Create bar chart\n",
    "    mean_ghi.index, # Use country names as x-ticks\n",
    "    mean_ghi.values, # Use mean GHI values as heights\n",
    "    color=sns.color_palette(\"Set2\") # Use seaborn color palette for aesthetics\n",
    ")\n",
    "\n",
    "# 🖼️ Title and axis labels\n",
    "ax.set_title(\"☀️ Average GHI by Country\", fontsize=14, weight='bold') # Set title\n",
    "ax.set_ylabel(\"GHI (W/m²)\", fontsize=12) # Set y-label\n",
    "ax.set_xlabel(\"\")  # Omit for cleaner look\n",
    "ax.grid(axis='y', linestyle=\"--\", alpha=0.7) # Add grid lines for y-axis\n",
    "\n",
    "# 🧾 Annotate bars with values\n",
    "for bar in bars: # Iterate over each bar\n",
    "    height = bar.get_height() # Get the height of the bar\n",
    "    ax.annotate( # Annotate the bar with its height\n",
    "        f\"{height:.1f}\", # Format height to 1 decimal place\n",
    "        xy=(bar.get_x() + bar.get_width() / 2, height), # Position annotation at the top of the bar\n",
    "        xytext=(0, 5), # Offset the text slightly above the bar\n",
    "        textcoords=\"offset points\", # Use offset points for positioning\n",
    "        ha=\"center\", # Center the text horizontally\n",
    "        fontsize=10, # Set font size\n",
    "        weight='bold' # Make the text bold\n",
    "    )\n",
    "\n",
    "plt.tight_layout() # Adjust layout to prevent clipping\n",
    "plt.show() # Display the plot\n"
   ]
  },
  {
   "cell_type": "markdown",
   "id": "82aa5e50",
   "metadata": {},
   "source": [
    "## 🧭 Strategic Insights for MoonLight Energy Solutions\n",
    "\n",
    "Based on comparative analysis of solar irradiance metrics (GHI, DNI, DHI), the following country-level recommendations are proposed:\n",
    "\n",
    "- **🇧🇯 Benin** demonstrates the **highest mean and median GHI**, with relatively low variance. This indicates both strong and consistent solar exposure, making Benin a prime candidate for **utility-scale, fixed-panel solar farm investments**.  \n",
    "  → **Recommended as the primary deployment region**.\n",
    "\n",
    "- **🇸🇱 Sierra Leone** exhibits the **highest variability** in GHI, suggesting less predictability in solar generation. This makes it less suitable for standalone PV systems. However, it is well-positioned for **hybrid solutions** (e.g., solar + battery or grid backup) and **technology pilots** focused on grid resilience.  \n",
    "  → **Recommended for hybrid pilots and infrastructure studies**.\n",
    "\n",
    "- **🇹🇬 Togo** shows **moderate but stable GHI**, with low standard deviation. This balance of irradiance and reliability supports **mid-sized or distributed PV systems**—particularly for rural electrification or edge-of-grid scenarios.  \n",
    "  → **Recommended for modular deployment and rapid scaling pilots**.\n",
    "\n",
    "---\n",
    "\n",
    "### 📌 Summary Recommendation\n",
    "\n",
    "1. **Initiate full feasibility studies and design planning in Benin** for primary deployment.\n",
    "2. **Pilot mid-scale, modular systems in Togo** to validate cost-performance at smaller scale.\n",
    "3. **Launch hybrid resilience pilots in Sierra Leone**, integrating solar with battery or backup generation for volatile regions.\n",
    "\n",
    "These recommendations align with MoonLight Energy Solutions’ goal of **data-driven, scalable solar investment across West Africa**.\n"
   ]
  },
  {
   "cell_type": "markdown",
   "id": "2ddf32db",
   "metadata": {},
   "source": [
    "## 🧭 Reflections & Next Steps\n",
    "\n",
    "This analysis establishes a solid, data-driven foundation for prioritizing solar deployment across Benin, Togo, and Sierra Leone. To support deeper investment strategy, the following next steps are recommended:\n",
    "\n",
    "- **📍 Geospatial Granularity**  \n",
    "  Integrate sub-regional or site-specific coordinates to rank locations within each country based on micro-climate and grid proximity.\n",
    "\n",
    "- **📆 Temporal Stability**  \n",
    "  Analyze **seasonal and diurnal patterns** in irradiance to assess year-round solar viability and sizing of storage or hybrid systems.\n",
    "\n",
    "- **🧪 Technical Feasibility**  \n",
    "  Extend the analysis to include additional environmental factors such as **humidity (RH)**, **wind speed**, **precipitation**, and **sensor soiling** — all of which affect yield and maintenance.\n",
    "\n",
    "---\n",
    "\n",
    "### 🔁 Reusability & Extension\n",
    "\n",
    "This notebook is designed with reproducibility and modularity in mind. It serves as a base for:\n",
    "\n",
    "- Live monitoring pipelines\n",
    "- Investment dashboards (see Streamlit extension)\n",
    "- Integration with forecasting and financial modeling tools"
   ]
  },
  {
   "cell_type": "markdown",
   "id": "add532c0",
   "metadata": {},
   "source": [
    "---\n",
    "\n",
    "### 📄 Notebook Metadata\n",
    "\n",
    "- **Notebook Name**: `compare_countries.ipynb`\n",
    "- **Challenge**: B5W0 – Solar Data Discovery (10 Academy)\n",
    "- **Branch**: `compare-countries`\n",
    "- **Author**: Nabil Mohamed\n",
    "- **Version**: Final (Task 3 Submission)\n",
    "- **Last Updated**: 21 May 2025\n",
    "- **Execution Context**: Local Jupyter Notebook (VSCode), `.venv` environment\n",
    "- **Root Directory**: `C:/Users/admin/Documents/GIT Repositories/solar-challenge-week1`\n",
    "\n",
    "📎 This notebook supports MoonLight Energy Solutions’ strategic solar planning efforts and is reproducible, extensible, and ready for dashboard integration (see Streamlit Task).\n",
    "\n",
    "---\n"
   ]
  }
 ],
 "metadata": {
  "kernelspec": {
   "display_name": ".venv",
   "language": "python",
   "name": "python3"
  },
  "language_info": {
   "codemirror_mode": {
    "name": "ipython",
    "version": 3
   },
   "file_extension": ".py",
   "mimetype": "text/x-python",
   "name": "python",
   "nbconvert_exporter": "python",
   "pygments_lexer": "ipython3",
   "version": "3.12.0"
  }
 },
 "nbformat": 4,
 "nbformat_minor": 5
}
