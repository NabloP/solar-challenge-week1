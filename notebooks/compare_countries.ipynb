{
 "cells": [
  {
   "cell_type": "markdown",
   "id": "324a8e12",
   "metadata": {},
   "source": [
    "# 🌍 Cross-Country Solar Irradiance Comparison – Benin, Togo, Sierra Leone\n",
    "\n",
    "This notebook performs a comparative analysis of solar potential across **Benin**, **Togo**, and **Sierra Leone**, using cleaned irradiance data.\n",
    "\n",
    "**Business Goal:**  \n",
    "MoonLight Energy Solutions seeks data-driven guidance to prioritize solar farm investments. This analysis focuses on identifying high-potential regions based on statistical trends in Global Horizontal Irradiance (GHI), Direct Normal Irradiance (DNI), and Diffuse Horizontal Irradiance (DHI).\n",
    "\n",
    "Key Deliverables:\n",
    "- Metric comparison via boxplots and summary statistics\n",
    "- Statistical testing for significance of cross-country differences\n",
    "- Clear strategic recommendations"
   ]
  },
  {
   "cell_type": "code",
   "execution_count": 3,
   "id": "ff5ab87a",
   "metadata": {},
   "outputs": [],
   "source": [
    "import pandas as pd # import pandas for data manipulation\n",
    "import numpy as np # import numpy for numerical operations\n",
    "import seaborn as sns # import seaborn for data visualization\n",
    "import matplotlib.pyplot as plt     \n",
    "from scipy.stats import f_oneway, kruskal, shapiro # import statistical tests\n",
    "\n",
    "# Improve plot style for clarity\n",
    "sns.set_style(\"whitegrid\") # Set the style of seaborn plots\n",
    "plt.rcParams.update({'axes.titlesize': 14, 'axes.labelsize': 12}) # Update default font sizes for plots"
   ]
  },
  {
   "cell_type": "code",
   "execution_count": 4,
   "id": "5711ecbe",
   "metadata": {},
   "outputs": [
    {
     "ename": "RuntimeError",
     "evalue": "Cleaned country CSV files not found. Ensure you have run EDA and cleaning.",
     "output_type": "error",
     "traceback": [
      "\u001b[31m---------------------------------------------------------------------------\u001b[39m",
      "\u001b[31mFileNotFoundError\u001b[39m                         Traceback (most recent call last)",
      "\u001b[36mCell\u001b[39m\u001b[36m \u001b[39m\u001b[32mIn[4]\u001b[39m\u001b[32m, line 3\u001b[39m\n\u001b[32m      2\u001b[39m \u001b[38;5;28;01mtry\u001b[39;00m: \u001b[38;5;66;03m# Attempt to load cleaned data\u001b[39;00m\n\u001b[32m----> \u001b[39m\u001b[32m3\u001b[39m     benin = \u001b[43mpd\u001b[49m\u001b[43m.\u001b[49m\u001b[43mread_csv\u001b[49m\u001b[43m(\u001b[49m\u001b[33;43m\"\u001b[39;49m\u001b[33;43mdata/benin_clean.csv\u001b[39;49m\u001b[33;43m\"\u001b[39;49m\u001b[43m)\u001b[49m \u001b[38;5;66;03m# Load Benin data\u001b[39;00m\n\u001b[32m      4\u001b[39m     togo = pd.read_csv(\u001b[33m\"\u001b[39m\u001b[33mdata/togo_clean.csv\u001b[39m\u001b[33m\"\u001b[39m) \u001b[38;5;66;03m# Load Togo data\u001b[39;00m\n",
      "\u001b[36mFile \u001b[39m\u001b[32mc:\\Users\\admin\\AppData\\Local\\Programs\\Python\\Python312\\Lib\\site-packages\\pandas\\io\\parsers\\readers.py:1026\u001b[39m, in \u001b[36mread_csv\u001b[39m\u001b[34m(filepath_or_buffer, sep, delimiter, header, names, index_col, usecols, dtype, engine, converters, true_values, false_values, skipinitialspace, skiprows, skipfooter, nrows, na_values, keep_default_na, na_filter, verbose, skip_blank_lines, parse_dates, infer_datetime_format, keep_date_col, date_parser, date_format, dayfirst, cache_dates, iterator, chunksize, compression, thousands, decimal, lineterminator, quotechar, quoting, doublequote, escapechar, comment, encoding, encoding_errors, dialect, on_bad_lines, delim_whitespace, low_memory, memory_map, float_precision, storage_options, dtype_backend)\u001b[39m\n\u001b[32m   1024\u001b[39m kwds.update(kwds_defaults)\n\u001b[32m-> \u001b[39m\u001b[32m1026\u001b[39m \u001b[38;5;28;01mreturn\u001b[39;00m \u001b[43m_read\u001b[49m\u001b[43m(\u001b[49m\u001b[43mfilepath_or_buffer\u001b[49m\u001b[43m,\u001b[49m\u001b[43m \u001b[49m\u001b[43mkwds\u001b[49m\u001b[43m)\u001b[49m\n",
      "\u001b[36mFile \u001b[39m\u001b[32mc:\\Users\\admin\\AppData\\Local\\Programs\\Python\\Python312\\Lib\\site-packages\\pandas\\io\\parsers\\readers.py:620\u001b[39m, in \u001b[36m_read\u001b[39m\u001b[34m(filepath_or_buffer, kwds)\u001b[39m\n\u001b[32m    619\u001b[39m \u001b[38;5;66;03m# Create the parser.\u001b[39;00m\n\u001b[32m--> \u001b[39m\u001b[32m620\u001b[39m parser = \u001b[43mTextFileReader\u001b[49m\u001b[43m(\u001b[49m\u001b[43mfilepath_or_buffer\u001b[49m\u001b[43m,\u001b[49m\u001b[43m \u001b[49m\u001b[43m*\u001b[49m\u001b[43m*\u001b[49m\u001b[43mkwds\u001b[49m\u001b[43m)\u001b[49m\n\u001b[32m    622\u001b[39m \u001b[38;5;28;01mif\u001b[39;00m chunksize \u001b[38;5;129;01mor\u001b[39;00m iterator:\n",
      "\u001b[36mFile \u001b[39m\u001b[32mc:\\Users\\admin\\AppData\\Local\\Programs\\Python\\Python312\\Lib\\site-packages\\pandas\\io\\parsers\\readers.py:1620\u001b[39m, in \u001b[36mTextFileReader.__init__\u001b[39m\u001b[34m(self, f, engine, **kwds)\u001b[39m\n\u001b[32m   1619\u001b[39m \u001b[38;5;28mself\u001b[39m.handles: IOHandles | \u001b[38;5;28;01mNone\u001b[39;00m = \u001b[38;5;28;01mNone\u001b[39;00m\n\u001b[32m-> \u001b[39m\u001b[32m1620\u001b[39m \u001b[38;5;28mself\u001b[39m._engine = \u001b[38;5;28;43mself\u001b[39;49m\u001b[43m.\u001b[49m\u001b[43m_make_engine\u001b[49m\u001b[43m(\u001b[49m\u001b[43mf\u001b[49m\u001b[43m,\u001b[49m\u001b[43m \u001b[49m\u001b[38;5;28;43mself\u001b[39;49m\u001b[43m.\u001b[49m\u001b[43mengine\u001b[49m\u001b[43m)\u001b[49m\n",
      "\u001b[36mFile \u001b[39m\u001b[32mc:\\Users\\admin\\AppData\\Local\\Programs\\Python\\Python312\\Lib\\site-packages\\pandas\\io\\parsers\\readers.py:1880\u001b[39m, in \u001b[36mTextFileReader._make_engine\u001b[39m\u001b[34m(self, f, engine)\u001b[39m\n\u001b[32m   1879\u001b[39m         mode += \u001b[33m\"\u001b[39m\u001b[33mb\u001b[39m\u001b[33m\"\u001b[39m\n\u001b[32m-> \u001b[39m\u001b[32m1880\u001b[39m \u001b[38;5;28mself\u001b[39m.handles = \u001b[43mget_handle\u001b[49m\u001b[43m(\u001b[49m\n\u001b[32m   1881\u001b[39m \u001b[43m    \u001b[49m\u001b[43mf\u001b[49m\u001b[43m,\u001b[49m\n\u001b[32m   1882\u001b[39m \u001b[43m    \u001b[49m\u001b[43mmode\u001b[49m\u001b[43m,\u001b[49m\n\u001b[32m   1883\u001b[39m \u001b[43m    \u001b[49m\u001b[43mencoding\u001b[49m\u001b[43m=\u001b[49m\u001b[38;5;28;43mself\u001b[39;49m\u001b[43m.\u001b[49m\u001b[43moptions\u001b[49m\u001b[43m.\u001b[49m\u001b[43mget\u001b[49m\u001b[43m(\u001b[49m\u001b[33;43m\"\u001b[39;49m\u001b[33;43mencoding\u001b[39;49m\u001b[33;43m\"\u001b[39;49m\u001b[43m,\u001b[49m\u001b[43m \u001b[49m\u001b[38;5;28;43;01mNone\u001b[39;49;00m\u001b[43m)\u001b[49m\u001b[43m,\u001b[49m\n\u001b[32m   1884\u001b[39m \u001b[43m    \u001b[49m\u001b[43mcompression\u001b[49m\u001b[43m=\u001b[49m\u001b[38;5;28;43mself\u001b[39;49m\u001b[43m.\u001b[49m\u001b[43moptions\u001b[49m\u001b[43m.\u001b[49m\u001b[43mget\u001b[49m\u001b[43m(\u001b[49m\u001b[33;43m\"\u001b[39;49m\u001b[33;43mcompression\u001b[39;49m\u001b[33;43m\"\u001b[39;49m\u001b[43m,\u001b[49m\u001b[43m \u001b[49m\u001b[38;5;28;43;01mNone\u001b[39;49;00m\u001b[43m)\u001b[49m\u001b[43m,\u001b[49m\n\u001b[32m   1885\u001b[39m \u001b[43m    \u001b[49m\u001b[43mmemory_map\u001b[49m\u001b[43m=\u001b[49m\u001b[38;5;28;43mself\u001b[39;49m\u001b[43m.\u001b[49m\u001b[43moptions\u001b[49m\u001b[43m.\u001b[49m\u001b[43mget\u001b[49m\u001b[43m(\u001b[49m\u001b[33;43m\"\u001b[39;49m\u001b[33;43mmemory_map\u001b[39;49m\u001b[33;43m\"\u001b[39;49m\u001b[43m,\u001b[49m\u001b[43m \u001b[49m\u001b[38;5;28;43;01mFalse\u001b[39;49;00m\u001b[43m)\u001b[49m\u001b[43m,\u001b[49m\n\u001b[32m   1886\u001b[39m \u001b[43m    \u001b[49m\u001b[43mis_text\u001b[49m\u001b[43m=\u001b[49m\u001b[43mis_text\u001b[49m\u001b[43m,\u001b[49m\n\u001b[32m   1887\u001b[39m \u001b[43m    \u001b[49m\u001b[43merrors\u001b[49m\u001b[43m=\u001b[49m\u001b[38;5;28;43mself\u001b[39;49m\u001b[43m.\u001b[49m\u001b[43moptions\u001b[49m\u001b[43m.\u001b[49m\u001b[43mget\u001b[49m\u001b[43m(\u001b[49m\u001b[33;43m\"\u001b[39;49m\u001b[33;43mencoding_errors\u001b[39;49m\u001b[33;43m\"\u001b[39;49m\u001b[43m,\u001b[49m\u001b[43m \u001b[49m\u001b[33;43m\"\u001b[39;49m\u001b[33;43mstrict\u001b[39;49m\u001b[33;43m\"\u001b[39;49m\u001b[43m)\u001b[49m\u001b[43m,\u001b[49m\n\u001b[32m   1888\u001b[39m \u001b[43m    \u001b[49m\u001b[43mstorage_options\u001b[49m\u001b[43m=\u001b[49m\u001b[38;5;28;43mself\u001b[39;49m\u001b[43m.\u001b[49m\u001b[43moptions\u001b[49m\u001b[43m.\u001b[49m\u001b[43mget\u001b[49m\u001b[43m(\u001b[49m\u001b[33;43m\"\u001b[39;49m\u001b[33;43mstorage_options\u001b[39;49m\u001b[33;43m\"\u001b[39;49m\u001b[43m,\u001b[49m\u001b[43m \u001b[49m\u001b[38;5;28;43;01mNone\u001b[39;49;00m\u001b[43m)\u001b[49m\u001b[43m,\u001b[49m\n\u001b[32m   1889\u001b[39m \u001b[43m\u001b[49m\u001b[43m)\u001b[49m\n\u001b[32m   1890\u001b[39m \u001b[38;5;28;01massert\u001b[39;00m \u001b[38;5;28mself\u001b[39m.handles \u001b[38;5;129;01mis\u001b[39;00m \u001b[38;5;129;01mnot\u001b[39;00m \u001b[38;5;28;01mNone\u001b[39;00m\n",
      "\u001b[36mFile \u001b[39m\u001b[32mc:\\Users\\admin\\AppData\\Local\\Programs\\Python\\Python312\\Lib\\site-packages\\pandas\\io\\common.py:873\u001b[39m, in \u001b[36mget_handle\u001b[39m\u001b[34m(path_or_buf, mode, encoding, compression, memory_map, is_text, errors, storage_options)\u001b[39m\n\u001b[32m    871\u001b[39m \u001b[38;5;28;01mif\u001b[39;00m ioargs.encoding \u001b[38;5;129;01mand\u001b[39;00m \u001b[33m\"\u001b[39m\u001b[33mb\u001b[39m\u001b[33m\"\u001b[39m \u001b[38;5;129;01mnot\u001b[39;00m \u001b[38;5;129;01min\u001b[39;00m ioargs.mode:\n\u001b[32m    872\u001b[39m     \u001b[38;5;66;03m# Encoding\u001b[39;00m\n\u001b[32m--> \u001b[39m\u001b[32m873\u001b[39m     handle = \u001b[38;5;28;43mopen\u001b[39;49m\u001b[43m(\u001b[49m\n\u001b[32m    874\u001b[39m \u001b[43m        \u001b[49m\u001b[43mhandle\u001b[49m\u001b[43m,\u001b[49m\n\u001b[32m    875\u001b[39m \u001b[43m        \u001b[49m\u001b[43mioargs\u001b[49m\u001b[43m.\u001b[49m\u001b[43mmode\u001b[49m\u001b[43m,\u001b[49m\n\u001b[32m    876\u001b[39m \u001b[43m        \u001b[49m\u001b[43mencoding\u001b[49m\u001b[43m=\u001b[49m\u001b[43mioargs\u001b[49m\u001b[43m.\u001b[49m\u001b[43mencoding\u001b[49m\u001b[43m,\u001b[49m\n\u001b[32m    877\u001b[39m \u001b[43m        \u001b[49m\u001b[43merrors\u001b[49m\u001b[43m=\u001b[49m\u001b[43merrors\u001b[49m\u001b[43m,\u001b[49m\n\u001b[32m    878\u001b[39m \u001b[43m        \u001b[49m\u001b[43mnewline\u001b[49m\u001b[43m=\u001b[49m\u001b[33;43m\"\u001b[39;49m\u001b[33;43m\"\u001b[39;49m\u001b[43m,\u001b[49m\n\u001b[32m    879\u001b[39m \u001b[43m    \u001b[49m\u001b[43m)\u001b[49m\n\u001b[32m    880\u001b[39m \u001b[38;5;28;01melse\u001b[39;00m:\n\u001b[32m    881\u001b[39m     \u001b[38;5;66;03m# Binary mode\u001b[39;00m\n",
      "\u001b[31mFileNotFoundError\u001b[39m: [Errno 2] No such file or directory: 'data/benin_clean.csv'",
      "\nThe above exception was the direct cause of the following exception:\n",
      "\u001b[31mRuntimeError\u001b[39m                              Traceback (most recent call last)",
      "\u001b[36mCell\u001b[39m\u001b[36m \u001b[39m\u001b[32mIn[4]\u001b[39m\u001b[32m, line 7\u001b[39m\n\u001b[32m      5\u001b[39m     sl = pd.read_csv(\u001b[33m\"\u001b[39m\u001b[33mdata/sierra_leone_clean.csv\u001b[39m\u001b[33m\"\u001b[39m) \u001b[38;5;66;03m# Load Sierra Leone data\u001b[39;00m\n\u001b[32m      6\u001b[39m \u001b[38;5;28;01mexcept\u001b[39;00m \u001b[38;5;167;01mFileNotFoundError\u001b[39;00m \u001b[38;5;28;01mas\u001b[39;00m e: \u001b[38;5;66;03m# Handle file not found error\u001b[39;00m\n\u001b[32m----> \u001b[39m\u001b[32m7\u001b[39m     \u001b[38;5;28;01mraise\u001b[39;00m \u001b[38;5;167;01mRuntimeError\u001b[39;00m(\u001b[33m\"\u001b[39m\u001b[33mCleaned country CSV files not found. Ensure you have run EDA and cleaning.\u001b[39m\u001b[33m\"\u001b[39m) \u001b[38;5;28;01mfrom\u001b[39;00m\u001b[38;5;250m \u001b[39m\u001b[34;01me\u001b[39;00m \u001b[38;5;66;03m# Ensure the data is loaded correctly\u001b[39;00m\n\u001b[32m      9\u001b[39m \u001b[38;5;66;03m# Assign country labels\u001b[39;00m\n\u001b[32m     10\u001b[39m benin[\u001b[33m\"\u001b[39m\u001b[33mcountry\u001b[39m\u001b[33m\"\u001b[39m] = \u001b[33m\"\u001b[39m\u001b[33mBenin\u001b[39m\u001b[33m\"\u001b[39m \u001b[38;5;66;03m# Assign country name to Benin data\u001b[39;00m\n",
      "\u001b[31mRuntimeError\u001b[39m: Cleaned country CSV files not found. Ensure you have run EDA and cleaning."
     ]
    }
   ],
   "source": [
    "# Load cleaned CSVs with error handling\n",
    "try: # Attempt to load cleaned data\n",
    "    benin = pd.read_csv(\"data/benin_clean.csv\") # Load Benin data\n",
    "    togo = pd.read_csv(\"data/togo_clean.csv\") # Load Togo data\n",
    "    sl = pd.read_csv(\"data/sierra_leone_clean.csv\") # Load Sierra Leone data\n",
    "except FileNotFoundError as e: # Handle file not found error\n",
    "    raise RuntimeError(\"Cleaned country CSV files not found. Ensure you have run EDA and cleaning.\") from e # Ensure the data is loaded correctly\n",
    "\n",
    "# Assign country labels\n",
    "benin[\"country\"] = \"Benin\" # Assign country name to Benin data\n",
    "togo[\"country\"] = \"Togo\" # Assign country name to Togo data\n",
    "sl[\"country\"] = \"Sierra Leone\" # Assign country name to Sierra Leone data\n",
    "\n",
    "# Merge all data\n",
    "df_all = pd.concat([benin, togo, sl], ignore_index=True) # Concatenate all dataframes into one\n"
   ]
  },
  {
   "cell_type": "markdown",
   "id": "c8721264",
   "metadata": {},
   "source": [
    "## ☀️ Irradiance Metrics Overview\n",
    "\n",
    "- **GHI (Global Horizontal Irradiance)**: Total solar radiation on a flat surface; core metric for fixed-tilt solar viability.\n",
    "- **DNI (Direct Normal Irradiance)**: Sun-facing radiation; key for tracking PV and CSP systems.\n",
    "- **DHI (Diffuse Horizontal Irradiance)**: Scattered radiation; relevant under cloudy or hazy conditions.\n",
    "\n",
    "These three metrics will form the basis of our comparison across countries."
   ]
  },
  {
   "cell_type": "code",
   "execution_count": null,
   "id": "ea65282c",
   "metadata": {},
   "outputs": [],
   "source": [
    "from scipy.stats import shapiro # Shapiro-Wilk normality test for GHI\n",
    "\n",
    "# Shapiro-Wilk normality test for GHI\n",
    "for country, label in zip([benin, togo, sl], [\"Benin\", \"Togo\", \"Sierra Leone\"]): # Iterate over each country\n",
    "    stat, p = shapiro(country[\"GHI\"].dropna().sample(min(5000, len(country))))  # cap sample size\n",
    "    print(f\"{label}: p-value = {p:.4f} → {'Normal' if p > 0.05 else 'Non-normal'}\") # Check normality of GHI data\n"
   ]
  },
  {
   "cell_type": "code",
   "execution_count": null,
   "id": "cac5883d",
   "metadata": {},
   "outputs": [],
   "source": [
    "# Since data is not normally distributed, use Kruskal–Wallis\n",
    "ghi_benin = benin[\"GHI\"].dropna() # Drop NaN values from GHI column\n",
    "ghi_togo = togo[\"GHI\"].dropna() # Drop NaN values from GHI column\n",
    "ghi_sl = sl[\"GHI\"].dropna() # Drop NaN values from GHI column\n",
    "\n",
    "h_stat, p_value = kruskal(ghi_benin, ghi_togo, ghi_sl) # Perform Kruskal-Wallis test\n",
    "print(f\"Kruskal–Wallis test on GHI: H = {h_stat:.3f}, p = {p_value:.5f}\") # Print the results of the Kruskal-Wallis test\n",
    "\n",
    "if p_value < 0.05: # Check if p-value is less than 0.05\n",
    "    print(\"✅ Statistically significant differences in GHI across countries.\")\n",
    "else: # If p-value is not less than 0.05\n",
    "    print(\"⚠️ No statistically significant differences detected.\")\n"
   ]
  },
  {
   "cell_type": "code",
   "execution_count": null,
   "id": "e5dc02ce",
   "metadata": {},
   "outputs": [],
   "source": [
    "metrics = [\"GHI\", \"DNI\", \"DHI\"] # List of metrics to plot\n",
    "for metric in metrics: # Iterate over each metric\n",
    "    plt.figure(figsize=(9, 6)) # Create a new figure for the plot\n",
    "    sns.boxplot(data=df_all, x=\"country\", y=metric, palette=\"Set2\") # Create a boxplot\n",
    "    plt.title(f\"{metric} Distribution by Country\") # Set the title of the plot\n",
    "    plt.ylabel(f\"{metric} (W/m²)\") # Set the y-axis label\n",
    "    plt.xlabel(\"\") # Set the x-axis label\n",
    "    plt.grid(True) # Add grid to the plot\n",
    "    plt.tight_layout() # Adjust layout for better spacing\n",
    "    plt.show() # Show the plot\n"
   ]
  },
  {
   "cell_type": "code",
   "execution_count": null,
   "id": "f3f8b96a",
   "metadata": {},
   "outputs": [],
   "source": [
    "# Group by country and aggregate descriptive statistics\n",
    "summary = df_all.groupby(\"country\")[[\"GHI\", \"DNI\", \"DHI\"]].agg(['mean', 'median', 'std', 'count']).round(2) # Group by country and calculate mean, median, std, and count\n",
    "summary # Display the summary statistics\n"
   ]
  },
  {
   "cell_type": "markdown",
   "id": "a8476dba",
   "metadata": {},
   "source": [
    "## 📊 Statistical Test Interpretation\n",
    "\n",
    "The **Kruskal–Wallis H-test** was chosen due to non-normal GHI distributions.  \n",
    "**p-value < 0.05** confirms statistically significant differences in GHI distributions across the three countries.\n",
    "\n",
    "This result justifies using GHI rankings to prioritize solar investment regions."
   ]
  },
  {
   "cell_type": "code",
   "execution_count": null,
   "id": "717cb8ec",
   "metadata": {},
   "outputs": [],
   "source": [
    "# Bar chart with annotated values\n",
    "mean_ghi = df_all.groupby(\"country\")[\"GHI\"].mean().sort_values(ascending=False) # Calculate mean GHI by country\n",
    "\n",
    "fig, ax = plt.subplots(figsize=(7, 4)) # Create a new figure for the bar chart\n",
    "bars = ax.bar(mean_ghi.index, mean_ghi.values, color=sns.color_palette(\"Set2\")) # Create bars for the bar chart\n",
    "ax.set_title(\"Average GHI by Country\") # Set the title of the bar chart\n",
    "ax.set_ylabel(\"GHI (W/m²)\") # Set the y-axis label\n",
    "\n",
    "# Annotate bars with GHI values\n",
    "for bar in bars: # Iterate over each bar\n",
    "    height = bar.get_height() # Get the height of the bar\n",
    "    ax.annotate(f\"{height:.1f}\", xy=(bar.get_x() + bar.get_width() / 2, height), \n",
    "                xytext=(0, 5), textcoords=\"offset points\", ha=\"center\", fontsize=10) # Annotate the bar with the GHI value\n",
    "\n",
    "plt.grid(axis='y') # Add grid to the y-axis\n",
    "plt.tight_layout() # Adjust layout for better spacing\n",
    "plt.show() # Show the bar chart\n"
   ]
  },
  {
   "cell_type": "markdown",
   "id": "82aa5e50",
   "metadata": {},
   "source": [
    "## 📌 Strategic Insights for MoonLight Energy Solutions\n",
    "\n",
    "- **🇧🇯 Benin** exhibits the **highest mean and median GHI**, indicating the strongest and most consistent solar potential. Recommended as **top-priority region** for fixed-panel solar farm deployment.\n",
    "- **🇸🇱 Sierra Leone** shows **high variability in GHI**, which may challenge solar generation consistency. Consider hybrid systems or storage integration to mitigate volatility.\n",
    "- **🇹🇬 Togo** presents **moderate but reliable GHI**, with low variance. This stability makes it a promising candidate for smaller-scale distributed PV projects or pilot programs.\n",
    "\n",
    "**Conclusion**: Begin with feasibility studies in Benin. Use insights from Togo for quick deployment pilots, while investing in hybrid infrastructure for Sierra Leone."
   ]
  },
  {
   "cell_type": "markdown",
   "id": "2ddf32db",
   "metadata": {},
   "source": [
    "## 🧭 Reflections & Next Steps\n",
    "\n",
    "This analysis provides a data-driven foundation for solar site prioritization. However, next stages should include:\n",
    "\n",
    "- **Geospatial granularity**: Drill into sub-regional site data\n",
    "- **Temporal stability**: Evaluate seasonal variation in GHI\n",
    "- **Technical feasibility**: Consider other environmental variables (RH, wind speed, soiling)\n",
    "\n",
    "📎 This notebook supports reproducibility and can be extended for real-time monitoring or dashboard integration (see Streamlit Task)."
   ]
  }
 ],
 "metadata": {
  "kernelspec": {
   "display_name": "Python 3",
   "language": "python",
   "name": "python3"
  },
  "language_info": {
   "codemirror_mode": {
    "name": "ipython",
    "version": 3
   },
   "file_extension": ".py",
   "mimetype": "text/x-python",
   "name": "python",
   "nbconvert_exporter": "python",
   "pygments_lexer": "ipython3",
   "version": "3.12.0"
  }
 },
 "nbformat": 4,
 "nbformat_minor": 5
}
